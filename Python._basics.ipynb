{
  "nbformat": 4,
  "nbformat_minor": 0,
  "metadata": {
    "colab": {
      "provenance": [],
      "authorship_tag": "ABX9TyPwVSBOchyrC+wJMMtwvY7k",
      "include_colab_link": true
    },
    "kernelspec": {
      "name": "python3",
      "display_name": "Python 3"
    },
    "language_info": {
      "name": "python"
    }
  },
  "cells": [
    {
      "cell_type": "markdown",
      "metadata": {
        "id": "view-in-github",
        "colab_type": "text"
      },
      "source": [
        "<a href=\"https://colab.research.google.com/github/NirupamaRanjan/Python/blob/main/Python._basics.ipynb\" target=\"_parent\"><img src=\"https://colab.research.google.com/assets/colab-badge.svg\" alt=\"Open In Colab\"/></a>"
      ]
    },
    {
      "cell_type": "code",
      "execution_count": null,
      "metadata": {
        "colab": {
          "base_uri": "https://localhost:8080/"
        },
        "id": "HksofggaZ_Lx",
        "outputId": "736f489b-dd35-4f4c-b1da-1cf5dfbe3ac1"
      },
      "outputs": [
        {
          "output_type": "stream",
          "name": "stdout",
          "text": [
            "Hello World\n"
          ]
        }
      ],
      "source": [
        "#printing in python\n",
        "#No need to import any files or write inside any function\n",
        "print(\"Hello World\")"
      ]
    },
    {
      "cell_type": "code",
      "source": [
        "a=[1,2,3,4]\n",
        "print(a,\"This is an array\")"
      ],
      "metadata": {
        "colab": {
          "base_uri": "https://localhost:8080/"
        },
        "id": "KlAnzPTKbSbx",
        "outputId": "32394a7e-d42b-413f-89da-4e04194672ea"
      },
      "execution_count": null,
      "outputs": [
        {
          "output_type": "stream",
          "name": "stdout",
          "text": [
            "[1, 2, 3, 4] This is an array\n"
          ]
        }
      ]
    },
    {
      "cell_type": "code",
      "source": [
        "#sep parameter \n",
        "print(\"India\",\"USA\",\"England\",sep='/')"
      ],
      "metadata": {
        "colab": {
          "base_uri": "https://localhost:8080/"
        },
        "id": "7hBnJGvfbx-7",
        "outputId": "497d04da-04d0-4336-deda-679d167126ef"
      },
      "execution_count": null,
      "outputs": [
        {
          "output_type": "stream",
          "name": "stdout",
          "text": [
            "India/USA/England\n"
          ]
        }
      ]
    },
    {
      "cell_type": "code",
      "source": [
        "# end parameter to print in the same line\n",
        "print(\"Hello \", end='')\n",
        "print(\"World\")"
      ],
      "metadata": {
        "colab": {
          "base_uri": "https://localhost:8080/"
        },
        "id": "tKG5w0dYcKQk",
        "outputId": "6767b3d1-8862-4e8c-df75-24178b3142ee"
      },
      "execution_count": null,
      "outputs": [
        {
          "output_type": "stream",
          "name": "stdout",
          "text": [
            "Hello World\n"
          ]
        }
      ]
    },
    {
      "cell_type": "code",
      "source": [
        "#Data types\n",
        "# Basic: integer, float, complex, boolean, string\n",
        "# Container : List , Tuples, Set , Dictionary\n",
        "# User-defined : Class\n",
        "\n",
        "#integer\n",
        "print(4)\n",
        "print(1e308)\n",
        "print(1e309) #python can handle upto 1e308\n",
        "\n",
        "print(100000000309302903920*10902909309103102890182901)\n",
        "\n",
        "#float\n",
        "print(1.2)\n",
        "print(1.7e308)\n",
        "print(1.7e309)\n",
        "\n",
        "#boolean\n",
        "print(True,False)\n",
        "\n",
        "#complex\n",
        "print(3+4j)\n",
        "\n",
        "#string\n",
        "print('Nirupama')\n",
        "print(\"Nirupama\")\n",
        "print(\"\"\"Nirupama\"\"\")"
      ],
      "metadata": {
        "colab": {
          "base_uri": "https://localhost:8080/"
        },
        "id": "JsJQr_QKcccK",
        "outputId": "9a625682-498c-4392-e6ab-c9de2e774ed1"
      },
      "execution_count": null,
      "outputs": [
        {
          "output_type": "stream",
          "name": "stdout",
          "text": [
            "4\n",
            "1e+308\n",
            "inf\n",
            "1090290934282611799500280714616116139229871920\n",
            "1.2\n",
            "1.7e+308\n",
            "inf\n",
            "True False\n",
            "(3+4j)\n",
            "Nirupama\n",
            "Nirupama\n",
            "Nirupama\n"
          ]
        }
      ]
    },
    {
      "cell_type": "code",
      "source": [
        "#List\n",
        "l1=[1,2,3,4]\n",
        "print(l1)\n",
        "\n",
        "#tuple\n",
        "t1=(1,2,3,4)\n",
        "print(t1)\n",
        "\n",
        "#set\n",
        "s1={1,2,3,4}\n",
        "print(s1)\n",
        "\n",
        "#dictionary\n",
        "d1={\"name\":\"Nirupama\",\"company\":\"ICICI bank\",\"location\": \"Hyderabad\"}\n",
        "print(d1)"
      ],
      "metadata": {
        "colab": {
          "base_uri": "https://localhost:8080/"
        },
        "id": "HF8JETNMYIzQ",
        "outputId": "cb716031-9af7-45ab-9554-f6d5f53c62ea"
      },
      "execution_count": null,
      "outputs": [
        {
          "output_type": "stream",
          "name": "stdout",
          "text": [
            "[1, 2, 3, 4]\n",
            "(1, 2, 3, 4)\n",
            "{1, 2, 3, 4}\n",
            "{'name': 'Nirupama', 'company': 'ICICI bank', 'location': 'Hyderabad'}\n"
          ]
        }
      ]
    },
    {
      "cell_type": "code",
      "source": [
        "#comments\n",
        "#there is no multi line comment feature in python. Some IDEs prvide this feature explicitly."
      ],
      "metadata": {
        "id": "V7IvzTrUY6UO"
      },
      "execution_count": null,
      "outputs": []
    },
    {
      "cell_type": "code",
      "source": [
        "#variables \n",
        "#python is dynamically typed\n",
        "#no variable declaration in python\n",
        "a=5\n",
        "print(5)\n",
        "a=\"Nirupama\"\n",
        "print(a)\n"
      ],
      "metadata": {
        "id": "DUU032bSZm8O",
        "colab": {
          "base_uri": "https://localhost:8080/"
        },
        "outputId": "1e4f6e1c-94ca-4c1e-cbb7-6970ad72a358"
      },
      "execution_count": 1,
      "outputs": [
        {
          "output_type": "stream",
          "name": "stdout",
          "text": [
            "5\n",
            "Nirupama\n"
          ]
        }
      ]
    },
    {
      "cell_type": "code",
      "source": [
        "#dynamic binding\n",
        "# a variable is not bind to a data type\n",
        "a=True\n",
        "print(a)\n",
        "a=8.9\n",
        "print(a)\n"
      ],
      "metadata": {
        "colab": {
          "base_uri": "https://localhost:8080/"
        },
        "id": "Elo2D0d0iAq4",
        "outputId": "b60c8e53-6cd0-4f74-d3e7-e733d973c0de"
      },
      "execution_count": 2,
      "outputs": [
        {
          "output_type": "stream",
          "name": "stdout",
          "text": [
            "True\n",
            "8.9\n"
          ]
        }
      ]
    },
    {
      "cell_type": "code",
      "source": [
        "#special syntax\n",
        "#multiple variable declaration in same line\n",
        "a=1;b=2;c=3\n",
        "print(a,b,c)\n",
        "\n",
        "#or\n",
        "\n",
        "a,b,c=1,2,3\n",
        "print(a,b,c)\n",
        "\n",
        "#or\n",
        "\n",
        "a=b=c=3\n",
        "print(a,b,c)\n"
      ],
      "metadata": {
        "colab": {
          "base_uri": "https://localhost:8080/"
        },
        "id": "Vru4bhCciDaY",
        "outputId": "8743cb42-190e-4f61-a9ab-ec1800a1dd57"
      },
      "execution_count": 3,
      "outputs": [
        {
          "output_type": "stream",
          "name": "stdout",
          "text": [
            "1 2 3\n",
            "1 2 3\n",
            "3 3 3\n"
          ]
        }
      ]
    },
    {
      "cell_type": "code",
      "source": [
        "#identifiers and keywords\n",
        "#keywords are special names reserved by the programs.These can not be used as a variable name. like for, if,else,True, False\n",
        "\n",
        "import keyword\n",
        "print(keyword.kwlist)\n"
      ],
      "metadata": {
        "colab": {
          "base_uri": "https://localhost:8080/"
        },
        "id": "CoJL2GkEiG2l",
        "outputId": "65b57d95-e957-45e9-c951-899c2c1fbb42"
      },
      "execution_count": 5,
      "outputs": [
        {
          "output_type": "stream",
          "name": "stdout",
          "text": [
            "['False', 'None', 'True', '__peg_parser__', 'and', 'as', 'assert', 'async', 'await', 'break', 'class', 'continue', 'def', 'del', 'elif', 'else', 'except', 'finally', 'for', 'from', 'global', 'if', 'import', 'in', 'is', 'lambda', 'nonlocal', 'not', 'or', 'pass', 'raise', 'return', 'try', 'while', 'with', 'yield']\n"
          ]
        }
      ]
    },
    {
      "cell_type": "code",
      "source": [
        "#identifiers\n",
        "# A name used to identify a variable, function, classes , modules or objects\n",
        "# can only start with alphabet or underscore. Can not include special characters except underscore. \n",
        "#keywords can not be used as identifiers.\n",
        "\n",
        "n_=2\n",
        "print(n_)"
      ],
      "metadata": {
        "colab": {
          "base_uri": "https://localhost:8080/"
        },
        "id": "QX1KLfdEiOea",
        "outputId": "16ad29e1-f14b-4332-ef02-0de4f895e884"
      },
      "execution_count": 6,
      "outputs": [
        {
          "output_type": "stream",
          "name": "stdout",
          "text": [
            "2\n"
          ]
        }
      ]
    },
    {
      "cell_type": "code",
      "source": [
        "#taking user input\n",
        "a=input(\"Enter your input\")\n",
        "#by default it is string as string is an universal format\n",
        "print(type(a))"
      ],
      "metadata": {
        "colab": {
          "base_uri": "https://localhost:8080/"
        },
        "id": "DEpBuC8RiPDX",
        "outputId": "1263aa35-fb7d-497d-fe71-bd83bae9fe35"
      },
      "execution_count": 7,
      "outputs": [
        {
          "output_type": "stream",
          "name": "stdout",
          "text": [
            "Enter your input2\n",
            "<class 'str'>\n"
          ]
        }
      ]
    },
    {
      "cell_type": "code",
      "source": [
        "#typeconversion\n",
        "#condition: they must be inter convertible. like string can not be converted as integer\n",
        "#Two types of type conversion: implicit and explicit\n",
        "\n",
        "#implicit\n",
        "print(2+9.5)\n",
        "#Here 2 is converted to float implicitly\n",
        "print(9+(3+4j))"
      ],
      "metadata": {
        "colab": {
          "base_uri": "https://localhost:8080/"
        },
        "id": "EYGObdodiRiS",
        "outputId": "c3e46d95-18c6-404a-9245-51469efa87c6"
      },
      "execution_count": 8,
      "outputs": [
        {
          "output_type": "stream",
          "name": "stdout",
          "text": [
            "11.5\n",
            "(12+4j)\n"
          ]
        }
      ]
    },
    {
      "cell_type": "code",
      "source": [
        "#Explicit \n",
        "#we use built in functions for it.\n",
        "#int,float,str,bool ,tuple,set ,dictionary function\n",
        "print(int(4.5))\n",
        "#print(int(\"nirupama\")) #throws error as it is not compatible\n",
        "print(float(4))\n",
        "print(str(8))\n",
        "print(bool(1))\n",
        "print(bool(0),bool(-9))\n",
        "#type conversion is not a permanent while typecasting is permanent"
      ],
      "metadata": {
        "colab": {
          "base_uri": "https://localhost:8080/"
        },
        "id": "xSVP0kYUia-0",
        "outputId": "1f62ae78-04ed-4b0f-b844-d4980ed40026"
      },
      "execution_count": 9,
      "outputs": [
        {
          "output_type": "stream",
          "name": "stdout",
          "text": [
            "4\n",
            "4.0\n",
            "8\n",
            "True\n",
            "False True\n"
          ]
        }
      ]
    },
    {
      "cell_type": "code",
      "source": [
        "b=int(input(\"Enter first number\"))"
      ],
      "metadata": {
        "colab": {
          "base_uri": "https://localhost:8080/"
        },
        "id": "qJxiZlojidud",
        "outputId": "0ae71ebc-4fe3-42bf-fbbb-a71c7796efff"
      },
      "execution_count": 10,
      "outputs": [
        {
          "name": "stdout",
          "output_type": "stream",
          "text": [
            "Enter first number10\n"
          ]
        }
      ]
    },
    {
      "cell_type": "code",
      "source": [
        "#literals: raw data given to a variable\n",
        "#In python there are 4 literals: numeric, boolean, string,special\n",
        "\n",
        "#numeric literal\n",
        "\n",
        "a=0b1010 #binary literal but prints decimal\n",
        "b=100 #decimal literal\n",
        "c=0o310 #octal literal\n",
        "d=0x12c #Hexadecimal literal\n",
        "\n",
        "\n",
        "e=10.5 #float literal\n",
        "f=1.5e2 #float literal\n",
        "g=1.5e-3 #float literal\n",
        "\n",
        "x=2+9j #complex literal\n",
        "\n",
        "print(a,b,c,d)\n",
        "print(e, f, g)\n",
        "print(x,x.imag,x.real)"
      ],
      "metadata": {
        "colab": {
          "base_uri": "https://localhost:8080/"
        },
        "id": "TUaXa7-IieNe",
        "outputId": "0825b5cc-e7df-4641-c174-8e247eec0607"
      },
      "execution_count": 11,
      "outputs": [
        {
          "output_type": "stream",
          "name": "stdout",
          "text": [
            "10 100 200 300\n",
            "10.5 150.0 0.0015\n",
            "(2+9j) 9.0 2.0\n"
          ]
        }
      ]
    },
    {
      "cell_type": "code",
      "source": [
        "#string literals\n",
        "\n",
        "s1='Nirupama'\n",
        "s2=\"Nirupama\"\n",
        "char =\"N\" # there is no char datatype in python , you can initialize  a single character but it is still string\n",
        "multiline_string =\"\"\"Hey! This  is Nirupama Ranjan. I\n",
        "am printing multiline string\"\"\"\n",
        "unicode=u\"\\U0001F603\\U0001F609\\U0001F617\"  #starts with u \n",
        "raw_str=r\"raw \\n string\"     #print specian charactes like \\n\n",
        "\n",
        "print(s1)\n",
        "print(s2)\n",
        "print(char)\n",
        "print(multiline_string)\n",
        "print(unicode)\n",
        "print(raw_str)\n",
        "\n"
      ],
      "metadata": {
        "colab": {
          "base_uri": "https://localhost:8080/"
        },
        "id": "I4V1dxYiijgD",
        "outputId": "f98c42a4-d062-4faf-af7e-de7ff6184cf5"
      },
      "execution_count": 12,
      "outputs": [
        {
          "output_type": "stream",
          "name": "stdout",
          "text": [
            "Nirupama\n",
            "Nirupama\n",
            "N\n",
            "Hey! This  is Nirupama Ranjan. I\n",
            "am printing multiline string\n",
            "😃😉😗\n",
            "raw \\n string\n"
          ]
        }
      ]
    },
    {
      "cell_type": "code",
      "source": [
        "#Boolean literal\n",
        "#True=1 and False=0 . Implicit type conversion takes place\n",
        "a=True+4\n",
        "b=False+4\n",
        "\n",
        "print(a,b)\n"
      ],
      "metadata": {
        "colab": {
          "base_uri": "https://localhost:8080/"
        },
        "id": "sAJHDT7Minc1",
        "outputId": "0f9b1227-b2e0-4461-9c48-70a1f9154547"
      },
      "execution_count": 13,
      "outputs": [
        {
          "output_type": "stream",
          "name": "stdout",
          "text": [
            "5 4\n"
          ]
        }
      ]
    },
    {
      "cell_type": "code",
      "source": [
        "#special literal\n",
        "#None means absence of anything or presence of nothing\n",
        "#used for variable declaration\n",
        "a=None\n",
        "print(a)\n",
        "\n",
        "a=34+35\n",
        "print(a)"
      ],
      "metadata": {
        "colab": {
          "base_uri": "https://localhost:8080/"
        },
        "id": "AfcQb5GLipYH",
        "outputId": "2c48f342-c71c-4f2c-e6d2-b345c3041beb"
      },
      "execution_count": 14,
      "outputs": [
        {
          "output_type": "stream",
          "name": "stdout",
          "text": [
            "None\n",
            "69\n"
          ]
        }
      ]
    },
    {
      "cell_type": "code",
      "source": [
        "#Operators\n",
        "\n",
        "#Airthematic\n",
        "#Logical\n",
        "#Comparison (Relational)\n",
        "#Bitwiswe\n",
        "#Assignment\n",
        "#Identity\n",
        "#Membership\n",
        "\n",
        "#Airthematic\n",
        "x=4\n",
        "y=5\n",
        "\n",
        "print(x+y, x-y, x*y, x/y, x%y, x**y , y//2)    # ** is poer of operator , // is inreger division"
      ],
      "metadata": {
        "colab": {
          "base_uri": "https://localhost:8080/"
        },
        "id": "GiDFI47sirXh",
        "outputId": "1e05c849-7c92-4484-bd53-438a01bb5c90"
      },
      "execution_count": 15,
      "outputs": [
        {
          "output_type": "stream",
          "name": "stdout",
          "text": [
            "9 -1 20 0.8 4 1024 2\n"
          ]
        }
      ]
    },
    {
      "cell_type": "code",
      "source": [
        "#Comparison\n",
        "print(x>y, x<y, x>=y, x<=y, x==y , x !=y) "
      ],
      "metadata": {
        "colab": {
          "base_uri": "https://localhost:8080/"
        },
        "id": "3Rg2-DSqiuTS",
        "outputId": "5d5b9ab7-1d70-47f3-f18d-eea0faca7999"
      },
      "execution_count": 16,
      "outputs": [
        {
          "output_type": "stream",
          "name": "stdout",
          "text": [
            "False True False True False True\n"
          ]
        }
      ]
    },
    {
      "cell_type": "code",
      "source": [
        "#Logical\n",
        "\n",
        "x=True\n",
        "y=False\n",
        "\n",
        "print (x or y , x and y, not x)"
      ],
      "metadata": {
        "colab": {
          "base_uri": "https://localhost:8080/"
        },
        "id": "Qu4ZS07hiwGo",
        "outputId": "096882a9-55f0-4da5-e19e-29b2ade54232"
      },
      "execution_count": 17,
      "outputs": [
        {
          "output_type": "stream",
          "name": "stdout",
          "text": [
            "True False False\n"
          ]
        }
      ]
    },
    {
      "cell_type": "code",
      "source": [
        "#Bitwise\n",
        "\n",
        "x=2\n",
        "y=3\n",
        "\n",
        "print(x&y, x|y, x^y,~x, ~y, x<<3,y>>2)  #Mostly used in applying filters on images where images are first converted into bits.\n"
      ],
      "metadata": {
        "colab": {
          "base_uri": "https://localhost:8080/"
        },
        "id": "5-BTgeTIiyQT",
        "outputId": "97bba880-71bb-4fcc-b33e-b2a45859502e"
      },
      "execution_count": 18,
      "outputs": [
        {
          "output_type": "stream",
          "name": "stdout",
          "text": [
            "2 3 1 -3 -4 16 0\n"
          ]
        }
      ]
    },
    {
      "cell_type": "code",
      "source": [
        "#Assignment\n",
        "x=2\n",
        "x+=2\n",
        "print(x)\n",
        "\n",
        "y=9\n",
        "y-=8\n",
        "print(y)\n",
        "\n",
        "# x++\n",
        "# ++x  These syntxes do not work in python"
      ],
      "metadata": {
        "colab": {
          "base_uri": "https://localhost:8080/"
        },
        "id": "N2e12y7qiz8z",
        "outputId": "36129f93-da93-4943-8da1-9e51bc0b209d"
      },
      "execution_count": 19,
      "outputs": [
        {
          "output_type": "stream",
          "name": "stdout",
          "text": [
            "4\n",
            "1\n"
          ]
        }
      ]
    },
    {
      "cell_type": "code",
      "source": [
        "#identity\n",
        "#It checks whether two variables are at same memory location or not. There value must be same for this comparison\n",
        "\n",
        "a=3\n",
        "b=3\n",
        "\n",
        "print(a is b)\n",
        "\n",
        "a=[1,2,3]\n",
        "b=[1,2,3]\n",
        "\n",
        "print(a is b)\n",
        "\n",
        "a=\"Nirupama\"\n",
        "b=\"Nirupama\"\n",
        "\n",
        "print(a is b)"
      ],
      "metadata": {
        "colab": {
          "base_uri": "https://localhost:8080/"
        },
        "id": "6XexADVBi2W9",
        "outputId": "21692760-81ce-4349-8baa-7299d5bab73a"
      },
      "execution_count": 20,
      "outputs": [
        {
          "output_type": "stream",
          "name": "stdout",
          "text": [
            "True\n",
            "False\n",
            "True\n"
          ]
        }
      ]
    },
    {
      "cell_type": "code",
      "source": [
        "#Membership\n",
        "#Is a variable in another variable\n",
        "#it is used in strings, dictionary etc\n",
        "\n",
        "x=\"Nirupama\"\n",
        "print(\"r\" in x)\n",
        "print(\"y\" in x)\n",
        "print(\"y\" not in x)"
      ],
      "metadata": {
        "colab": {
          "base_uri": "https://localhost:8080/"
        },
        "id": "Dsf5L9Lwi4DJ",
        "outputId": "6babc20b-0e50-4791-a645-055e6d5c4d2f"
      },
      "execution_count": 21,
      "outputs": [
        {
          "output_type": "stream",
          "name": "stdout",
          "text": [
            "True\n",
            "False\n",
            "True\n"
          ]
        }
      ]
    },
    {
      "cell_type": "code",
      "source": [],
      "metadata": {
        "id": "NM4fXsFNi51c"
      },
      "execution_count": null,
      "outputs": []
    }
  ]
}
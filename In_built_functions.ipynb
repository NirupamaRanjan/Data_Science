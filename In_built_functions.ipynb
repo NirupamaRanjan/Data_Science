{
  "nbformat": 4,
  "nbformat_minor": 0,
  "metadata": {
    "colab": {
      "provenance": [],
      "authorship_tag": "ABX9TyMl2/yfmYYo3C5P1QQ4ix3M",
      "include_colab_link": true
    },
    "kernelspec": {
      "name": "python3",
      "display_name": "Python 3"
    },
    "language_info": {
      "name": "python"
    }
  },
  "cells": [
    {
      "cell_type": "markdown",
      "metadata": {
        "id": "view-in-github",
        "colab_type": "text"
      },
      "source": [
        "<a href=\"https://colab.research.google.com/github/NirupamaRanjan/Python/blob/main/In_built_functions.ipynb\" target=\"_parent\"><img src=\"https://colab.research.google.com/assets/colab-badge.svg\" alt=\"Open In Colab\"/></a>"
      ]
    },
    {
      "cell_type": "code",
      "execution_count": 1,
      "metadata": {
        "id": "2_iey24lPi1a"
      },
      "outputs": [],
      "source": [
        "#built_in functions\n",
        "#1. print() prints \n",
        "#2. input() takes input\n",
        "#3. type() return data type of a variable\n",
        "#4. type conversion functions like int(),float() and all"
      ]
    },
    {
      "cell_type": "code",
      "source": [
        "#5. abs() retruns absolute value of a integer\n",
        "#6. pow() eg: pow(2,3) will return 8\n",
        "#7. min()/max()\n",
        "\n",
        "list=[1,2,3,4]\n",
        "print(min(list))\n",
        "print(max(list))\n",
        "\n",
        "name=\"nirupama\"\n",
        "print(min(name))\n",
        "print(max(name))"
      ],
      "metadata": {
        "colab": {
          "base_uri": "https://localhost:8080/"
        },
        "id": "XQKnkQAwd29C",
        "outputId": "ebae86ed-d910-4a54-be86-426f869fb554"
      },
      "execution_count": 3,
      "outputs": [
        {
          "output_type": "stream",
          "name": "stdout",
          "text": [
            "1\n",
            "4\n",
            "a\n",
            "u\n"
          ]
        }
      ]
    },
    {
      "cell_type": "code",
      "source": [
        "#8. round(). #returns floor value\n",
        "\n",
        "print(round(5/2))\n",
        "print(round(22/7,3)) #rounds up to 3 decimal places\n",
        "\n",
        "\n"
      ],
      "metadata": {
        "colab": {
          "base_uri": "https://localhost:8080/"
        },
        "id": "41Co_u2LeLXW",
        "outputId": "4e3da57d-01da-4d31-ab7c-a05b523724d9"
      },
      "execution_count": 6,
      "outputs": [
        {
          "output_type": "stream",
          "name": "stdout",
          "text": [
            "2\n",
            "3.143\n"
          ]
        }
      ]
    },
    {
      "cell_type": "code",
      "source": [
        "#9 divmod(). #returns the tuple comtaning dividend and modulus (x//y , x%y)\n",
        "\n",
        "print(divmod(22,7))"
      ],
      "metadata": {
        "colab": {
          "base_uri": "https://localhost:8080/"
        },
        "id": "6oZWiwADenLG",
        "outputId": "ba3a83f9-bc9d-4e20-cf78-f39a282492bd"
      },
      "execution_count": 7,
      "outputs": [
        {
          "output_type": "stream",
          "name": "stdout",
          "text": [
            "(3, 1)\n"
          ]
        }
      ]
    },
    {
      "cell_type": "code",
      "source": [
        "#10 bin/oct/hex()\n",
        "\n",
        "print(bin(4))\n",
        "print(oct(4))\n",
        "print(hex(5))"
      ],
      "metadata": {
        "colab": {
          "base_uri": "https://localhost:8080/"
        },
        "id": "EdLxYnVMfEbC",
        "outputId": "e8488257-0164-4cdb-a42d-e0dbefd0ee6e"
      },
      "execution_count": 8,
      "outputs": [
        {
          "output_type": "stream",
          "name": "stdout",
          "text": [
            "0b100\n",
            "0o4\n",
            "0x5\n"
          ]
        }
      ]
    },
    {
      "cell_type": "code",
      "source": [
        "#11 id() : returns address of a variable in memory\n",
        "\n",
        "a=3\n",
        "print(id(a))\n"
      ],
      "metadata": {
        "colab": {
          "base_uri": "https://localhost:8080/"
        },
        "id": "sESK-t3MfM2N",
        "outputId": "c528c469-905c-4e60-8fd8-9bf523fdefb8"
      },
      "execution_count": 9,
      "outputs": [
        {
          "output_type": "stream",
          "name": "stdout",
          "text": [
            "140274255763824\n"
          ]
        }
      ]
    },
    {
      "cell_type": "code",
      "source": [
        "#12. ord() : returns unicode code point for a one-character string (ascii code of a character)\n",
        "\n",
        "print(ord('a'))"
      ],
      "metadata": {
        "colab": {
          "base_uri": "https://localhost:8080/"
        },
        "id": "VwK2aQ7Sfd4x",
        "outputId": "14caaa9c-05c4-4d47-a499-eaea9a1399ab"
      },
      "execution_count": 11,
      "outputs": [
        {
          "output_type": "stream",
          "name": "stdout",
          "text": [
            "97\n"
          ]
        }
      ]
    },
    {
      "cell_type": "code",
      "source": [
        "#13. len() : return length of any iterable\n",
        "\n",
        "list=[1,2,3,4]\n",
        "print(len(list))"
      ],
      "metadata": {
        "colab": {
          "base_uri": "https://localhost:8080/"
        },
        "id": "HM2wiHN_fzmt",
        "outputId": "7e4ab867-26ee-44b8-db6a-42bbbc9d56c6"
      },
      "execution_count": 12,
      "outputs": [
        {
          "output_type": "stream",
          "name": "stdout",
          "text": [
            "4\n"
          ]
        }
      ]
    },
    {
      "cell_type": "code",
      "source": [
        "#14. sum(): returns sum of any iterable (assumption: all elements are numbers)\n",
        "\n",
        "t=(1,2,3,4,5)\n",
        "print(sum(t))"
      ],
      "metadata": {
        "colab": {
          "base_uri": "https://localhost:8080/"
        },
        "id": "jAQ6_2DwgDsD",
        "outputId": "0dc712e4-22d4-4afd-c6eb-51293d3bff00"
      },
      "execution_count": 14,
      "outputs": [
        {
          "output_type": "stream",
          "name": "stdout",
          "text": [
            "15\n"
          ]
        }
      ]
    },
    {
      "cell_type": "code",
      "source": [
        "#15. help()  provides help for  built in functions \n",
        "\n",
        "help('sum')"
      ],
      "metadata": {
        "colab": {
          "base_uri": "https://localhost:8080/"
        },
        "id": "EomGQ-UYgRih",
        "outputId": "00448ad6-b8ac-45df-c658-bf58ff9dc326"
      },
      "execution_count": 15,
      "outputs": [
        {
          "output_type": "stream",
          "name": "stdout",
          "text": [
            "Help on built-in function sum in module builtins:\n",
            "\n",
            "sum(iterable, /, start=0)\n",
            "    Return the sum of a 'start' value (default: 0) plus an iterable of numbers\n",
            "    \n",
            "    When the iterable is empty, return the start value.\n",
            "    This function is intended specifically for use with numeric values and may\n",
            "    reject non-numeric types.\n",
            "\n"
          ]
        }
      ]
    }
  ]
}